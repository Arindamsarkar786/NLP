{
  "nbformat": 4,
  "nbformat_minor": 0,
  "metadata": {
    "colab": {
      "provenance": []
    },
    "kernelspec": {
      "name": "python3",
      "display_name": "Python 3"
    },
    "language_info": {
      "name": "python"
    }
  },
  "cells": [
    {
      "cell_type": "code",
      "execution_count": 4,
      "metadata": {
        "id": "hfS70_kPAcJF"
      },
      "outputs": [],
      "source": [
        "import nltk\n",
        "from nltk.tokenize import word_tokenize,sent_tokenize"
      ]
    },
    {
      "cell_type": "code",
      "source": [
        "import nltk\n",
        "nltk.download('punkt')"
      ],
      "metadata": {
        "colab": {
          "base_uri": "https://localhost:8080/"
        },
        "id": "PQGnWLbkArZC",
        "outputId": "390c3710-67a7-4290-cb82-bace6183f278"
      },
      "execution_count": 5,
      "outputs": [
        {
          "output_type": "stream",
          "name": "stderr",
          "text": [
            "[nltk_data] Downloading package punkt to /root/nltk_data...\n",
            "[nltk_data]   Unzipping tokenizers/punkt.zip.\n"
          ]
        },
        {
          "output_type": "execute_result",
          "data": {
            "text/plain": [
              "True"
            ]
          },
          "metadata": {},
          "execution_count": 5
        }
      ]
    },
    {
      "cell_type": "code",
      "source": [
        "text ='''The Cow is a very useful animal and gives us milk. Milk considered a complete and nutritious food. The Cow is a domestic and religious animal. In India, it is a ritual and custom to worship Cow. Cow’s milk used in the pooja, Abhishek, and other holy Everyone called Coweryone “Gau Mata” to give her mother-like status in the Hindu religion. It has a large body, four legs, one long tail, two horns, two ears, two eyes, one big nose, one big mouth, and also one head. Moreover cow found in almost every region of the country.\n",
        "\n",
        "It is found in different shapes and sizes. Cow found in our country become small however big cows found in other countries. We should take good care of the Cow and give her quality food and clean water. She eats green grasses, food, grains, hay, and other things. First, she chews the food well and slowly swallows to her stomach. Her back is long and wide.'''"
      ],
      "metadata": {
        "id": "4iQArqWJBAkO"
      },
      "execution_count": 6,
      "outputs": []
    },
    {
      "cell_type": "code",
      "source": [
        "print(text)\n",
        "token_sent=word_tokenize(text,language='english')\n",
        "print(token_sent)"
      ],
      "metadata": {
        "colab": {
          "base_uri": "https://localhost:8080/"
        },
        "id": "mbBstQcMBWb7",
        "outputId": "e7995cff-481b-4c9a-d679-c3a202c3f0fe"
      },
      "execution_count": 9,
      "outputs": [
        {
          "output_type": "stream",
          "name": "stdout",
          "text": [
            "The Cow is a very useful animal and gives us milk. Milk considered a complete and nutritious food. The Cow is a domestic and religious animal. In India, it is a ritual and custom to worship Cow. Cow’s milk used in the pooja, Abhishek, and other holy Everyone called Coweryone “Gau Mata” to give her mother-like status in the Hindu religion. It has a large body, four legs, one long tail, two horns, two ears, two eyes, one big nose, one big mouth, and also one head. Moreover cow found in almost every region of the country.\n",
            "\n",
            "It is found in different shapes and sizes. Cow found in our country become small however big cows found in other countries. We should take good care of the Cow and give her quality food and clean water. She eats green grasses, food, grains, hay, and other things. First, she chews the food well and slowly swallows to her stomach. Her back is long and wide.\n",
            "['The', 'Cow', 'is', 'a', 'very', 'useful', 'animal', 'and', 'gives', 'us', 'milk', '.', 'Milk', 'considered', 'a', 'complete', 'and', 'nutritious', 'food', '.', 'The', 'Cow', 'is', 'a', 'domestic', 'and', 'religious', 'animal', '.', 'In', 'India', ',', 'it', 'is', 'a', 'ritual', 'and', 'custom', 'to', 'worship', 'Cow', '.', 'Cow', '’', 's', 'milk', 'used', 'in', 'the', 'pooja', ',', 'Abhishek', ',', 'and', 'other', 'holy', 'Everyone', 'called', 'Coweryone', '“', 'Gau', 'Mata', '”', 'to', 'give', 'her', 'mother-like', 'status', 'in', 'the', 'Hindu', 'religion', '.', 'It', 'has', 'a', 'large', 'body', ',', 'four', 'legs', ',', 'one', 'long', 'tail', ',', 'two', 'horns', ',', 'two', 'ears', ',', 'two', 'eyes', ',', 'one', 'big', 'nose', ',', 'one', 'big', 'mouth', ',', 'and', 'also', 'one', 'head', '.', 'Moreover', 'cow', 'found', 'in', 'almost', 'every', 'region', 'of', 'the', 'country', '.', 'It', 'is', 'found', 'in', 'different', 'shapes', 'and', 'sizes', '.', 'Cow', 'found', 'in', 'our', 'country', 'become', 'small', 'however', 'big', 'cows', 'found', 'in', 'other', 'countries', '.', 'We', 'should', 'take', 'good', 'care', 'of', 'the', 'Cow', 'and', 'give', 'her', 'quality', 'food', 'and', 'clean', 'water', '.', 'She', 'eats', 'green', 'grasses', ',', 'food', ',', 'grains', ',', 'hay', ',', 'and', 'other', 'things', '.', 'First', ',', 'she', 'chews', 'the', 'food', 'well', 'and', 'slowly', 'swallows', 'to', 'her', 'stomach', '.', 'Her', 'back', 'is', 'long', 'and', 'wide', '.']\n"
          ]
        }
      ]
    },
    {
      "cell_type": "code",
      "source": [
        "print(text)\n",
        "token_sent=sent_tokenize(text,language='english')\n",
        "print(token_sent)"
      ],
      "metadata": {
        "colab": {
          "base_uri": "https://localhost:8080/"
        },
        "id": "inAIjn2KBkj6",
        "outputId": "f2dc1d8e-fed6-4204-edc8-e4ac5cef45a6"
      },
      "execution_count": 10,
      "outputs": [
        {
          "output_type": "stream",
          "name": "stdout",
          "text": [
            "The Cow is a very useful animal and gives us milk. Milk considered a complete and nutritious food. The Cow is a domestic and religious animal. In India, it is a ritual and custom to worship Cow. Cow’s milk used in the pooja, Abhishek, and other holy Everyone called Coweryone “Gau Mata” to give her mother-like status in the Hindu religion. It has a large body, four legs, one long tail, two horns, two ears, two eyes, one big nose, one big mouth, and also one head. Moreover cow found in almost every region of the country.\n",
            "\n",
            "It is found in different shapes and sizes. Cow found in our country become small however big cows found in other countries. We should take good care of the Cow and give her quality food and clean water. She eats green grasses, food, grains, hay, and other things. First, she chews the food well and slowly swallows to her stomach. Her back is long and wide.\n",
            "['The Cow is a very useful animal and gives us milk.', 'Milk considered a complete and nutritious food.', 'The Cow is a domestic and religious animal.', 'In India, it is a ritual and custom to worship Cow.', 'Cow’s milk used in the pooja, Abhishek, and other holy Everyone called Coweryone “Gau Mata” to give her mother-like status in the Hindu religion.', 'It has a large body, four legs, one long tail, two horns, two ears, two eyes, one big nose, one big mouth, and also one head.', 'Moreover cow found in almost every region of the country.', 'It is found in different shapes and sizes.', 'Cow found in our country become small however big cows found in other countries.', 'We should take good care of the Cow and give her quality food and clean water.', 'She eats green grasses, food, grains, hay, and other things.', 'First, she chews the food well and slowly swallows to her stomach.', 'Her back is long and wide.']\n"
          ]
        }
      ]
    },
    {
      "cell_type": "code",
      "source": [
        "print(len(token_sent))"
      ],
      "metadata": {
        "colab": {
          "base_uri": "https://localhost:8080/"
        },
        "id": "OGpFfRTuByOf",
        "outputId": "8d4e9850-e257-4b79-ede3-3e7b26278c33"
      },
      "execution_count": 11,
      "outputs": [
        {
          "output_type": "stream",
          "name": "stdout",
          "text": [
            "13\n"
          ]
        }
      ]
    },
    {
      "cell_type": "code",
      "source": [
        "print(max(token_sent,key=len))"
      ],
      "metadata": {
        "colab": {
          "base_uri": "https://localhost:8080/"
        },
        "id": "PPhKJRA1B4rM",
        "outputId": "35b804be-2d07-48a3-c2a7-cc54d1d06709"
      },
      "execution_count": 12,
      "outputs": [
        {
          "output_type": "stream",
          "name": "stdout",
          "text": [
            "Cow’s milk used in the pooja, Abhishek, and other holy Everyone called Coweryone “Gau Mata” to give her mother-like status in the Hindu religion.\n"
          ]
        }
      ]
    },
    {
      "cell_type": "code",
      "source": [
        "import string\n",
        "def remove_punk(token_sent):\n",
        "  trans = str.maketrans(\"\",\"\",string.punctuation)\n",
        "  return token_sent.translate(trans)\n"
      ],
      "metadata": {
        "id": "vgnQZvKfB97n"
      },
      "execution_count": 17,
      "outputs": []
    },
    {
      "cell_type": "code",
      "source": [
        "clean_sent=[remove_punk(sentence) for sentence in token_sent]\n",
        "print(clean_sent)"
      ],
      "metadata": {
        "colab": {
          "base_uri": "https://localhost:8080/"
        },
        "id": "b5NWacXLCZqE",
        "outputId": "9b3c7973-e90d-4a0f-f068-97ba1d730043"
      },
      "execution_count": 18,
      "outputs": [
        {
          "output_type": "stream",
          "name": "stdout",
          "text": [
            "['The Cow is a very useful animal and gives us milk', 'Milk considered a complete and nutritious food', 'The Cow is a domestic and religious animal', 'In India it is a ritual and custom to worship Cow', 'Cow’s milk used in the pooja Abhishek and other holy Everyone called Coweryone “Gau Mata” to give her motherlike status in the Hindu religion', 'It has a large body four legs one long tail two horns two ears two eyes one big nose one big mouth and also one head', 'Moreover cow found in almost every region of the country', 'It is found in different shapes and sizes', 'Cow found in our country become small however big cows found in other countries', 'We should take good care of the Cow and give her quality food and clean water', 'She eats green grasses food grains hay and other things', 'First she chews the food well and slowly swallows to her stomach', 'Her back is long and wide']\n"
          ]
        }
      ]
    },
    {
      "cell_type": "code",
      "source": [],
      "metadata": {
        "id": "X-qfUCdLCwwr"
      },
      "execution_count": null,
      "outputs": []
    }
  ]
}