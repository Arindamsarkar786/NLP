{
  "cells": [
    {
      "cell_type": "markdown",
      "metadata": {
        "id": "fLgVV7GJIiVh"
      },
      "source": [
        "# Import the libraries"
      ]
    },
    {
      "cell_type": "code",
      "execution_count": null,
      "metadata": {
        "id": "Djgi5QwpIiVm"
      },
      "outputs": [],
      "source": [
        "from gensim.models import Word2Vec\n",
        "from nltk.tokenize import word_tokenize"
      ]
    },
    {
      "cell_type": "markdown",
      "metadata": {
        "id": "_-4yr1m6IiVq"
      },
      "source": [
        "# Sample corpus (list of sentences)"
      ]
    },
    {
      "cell_type": "code",
      "execution_count": null,
      "metadata": {
        "id": "LKNtFgT6IiVr"
      },
      "outputs": [],
      "source": [
        "corpus = [\n",
        "    \"Word embeddings are dense vector representations of words.\",\n",
        "    \"They are used in many natural language processing applications.\",\n",
        "    \"Word2Vec is a popular algorithm for generating word embeddings.\"\n",
        "]"
      ]
    },
    {
      "cell_type": "markdown",
      "metadata": {
        "id": "fhnmf00vIiVs"
      },
      "source": [
        "# Tokenize the sentences"
      ]
    },
    {
      "cell_type": "code",
      "execution_count": null,
      "metadata": {
        "id": "enRyUiomIiVt"
      },
      "outputs": [],
      "source": [
        "tokenized_corpus = [word_tokenize(sentence.lower()) for sentence in corpus]"
      ]
    },
    {
      "cell_type": "markdown",
      "metadata": {
        "id": "Si2Ip5h-IiVt"
      },
      "source": [
        "# Define and train the Word2Vec model"
      ]
    },
    {
      "cell_type": "code",
      "execution_count": null,
      "metadata": {
        "id": "_fT0MFdeIiVu"
      },
      "outputs": [],
      "source": [
        "model = Word2Vec(sentences=tokenized_corpus, vector_size=100, window=5, min_count=1, sg=0)"
      ]
    },
    {
      "cell_type": "markdown",
      "metadata": {
        "id": "RKyHa4IoIiVu"
      },
      "source": [
        "# Save the model"
      ]
    },
    {
      "cell_type": "code",
      "execution_count": null,
      "metadata": {
        "id": "RyTTEOGdIiVv"
      },
      "outputs": [],
      "source": [
        "model.save(\"word2vec_model\")"
      ]
    },
    {
      "cell_type": "markdown",
      "metadata": {
        "id": "I25kZdbbIiVv"
      },
      "source": [
        "# Load the model"
      ]
    },
    {
      "cell_type": "code",
      "execution_count": null,
      "metadata": {
        "id": "A9lm2dSlIiVw"
      },
      "outputs": [],
      "source": [
        "loaded_model = Word2Vec.load(\"word2vec_model\")"
      ]
    },
    {
      "cell_type": "markdown",
      "metadata": {
        "id": "nW6wsQpSIiVx"
      },
      "source": [
        "# Find similar words"
      ]
    },
    {
      "cell_type": "code",
      "execution_count": null,
      "metadata": {
        "id": "JH2NPndPIiVx",
        "outputId": "54f32634-a436-4552-a882-4a741dcb51b6"
      },
      "outputs": [
        {
          "name": "stdout",
          "output_type": "stream",
          "text": [
            "Similar words to 'word': [('algorithm', 0.18855659663677216), ('natural', 0.16072483360767365), ('word2vec', 0.15923379361629486), ('many', 0.1372743546962738), ('in', 0.127894327044487)]\n"
          ]
        }
      ],
      "source": [
        "similar_words = loaded_model.wv.most_similar(\"word\", topn=5)\n",
        "print(\"Similar words to 'word':\", similar_words)"
      ]
    },
    {
      "cell_type": "code",
      "execution_count": null,
      "metadata": {
        "id": "KJupw0FRIiVz"
      },
      "outputs": [],
      "source": []
    }
  ],
  "metadata": {
    "kernelspec": {
      "display_name": "Python 3",
      "language": "python",
      "name": "python3"
    },
    "language_info": {
      "codemirror_mode": {
        "name": "ipython",
        "version": 3
      },
      "file_extension": ".py",
      "mimetype": "text/x-python",
      "name": "python",
      "nbconvert_exporter": "python",
      "pygments_lexer": "ipython3",
      "version": "3.8.5"
    },
    "colab": {
      "provenance": []
    }
  },
  "nbformat": 4,
  "nbformat_minor": 0
}