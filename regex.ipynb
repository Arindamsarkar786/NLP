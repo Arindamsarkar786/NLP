{
  "nbformat": 4,
  "nbformat_minor": 0,
  "metadata": {
    "colab": {
      "provenance": []
    },
    "kernelspec": {
      "name": "python3",
      "display_name": "Python 3"
    },
    "language_info": {
      "name": "python"
    }
  },
  "cells": [
    {
      "cell_type": "code",
      "execution_count": 1,
      "metadata": {
        "id": "0PvUtHETfgLN"
      },
      "outputs": [],
      "source": [
        "import re"
      ]
    },
    {
      "cell_type": "code",
      "source": [
        "text = 'the quick brown fox jump over the lazy dog'"
      ],
      "metadata": {
        "id": "7jh6p-4EfiXb"
      },
      "execution_count": 2,
      "outputs": []
    },
    {
      "cell_type": "code",
      "source": [
        "pattern = r'fox'\n",
        "matc=re.findall(pattern,text)\n",
        "print('matc:',matc)"
      ],
      "metadata": {
        "colab": {
          "base_uri": "https://localhost:8080/"
        },
        "id": "6aAR1DVjftEy",
        "outputId": "fdafcffe-dd70-43dd-d636-904eeecd0f00"
      },
      "execution_count": 5,
      "outputs": [
        {
          "output_type": "stream",
          "name": "stdout",
          "text": [
            "matc: ['fox']\n"
          ]
        }
      ]
    },
    {
      "cell_type": "code",
      "source": [
        "replace='cat'\n",
        "text1=re.sub(pattern,replace,text)\n",
        "print(text1)\n"
      ],
      "metadata": {
        "colab": {
          "base_uri": "https://localhost:8080/"
        },
        "id": "mWZG1Ib3gJI8",
        "outputId": "93157eb7-d5a6-4487-9e5a-1f61286af324"
      },
      "execution_count": 7,
      "outputs": [
        {
          "output_type": "stream",
          "name": "stdout",
          "text": [
            "the quick brown cat jump over the lazy dog\n"
          ]
        }
      ]
    },
    {
      "cell_type": "code",
      "source": [
        "pattern = r'\\s'\n",
        "split_text=re.split(pattern,text)\n",
        "print(split_text)"
      ],
      "metadata": {
        "colab": {
          "base_uri": "https://localhost:8080/"
        },
        "id": "36mErI6pgwOC",
        "outputId": "9d3bba44-3bde-4321-984c-f3036ff09365"
      },
      "execution_count": 21,
      "outputs": [
        {
          "output_type": "stream",
          "name": "stdout",
          "text": [
            "['the', 'quick', 'brown', 'fox', 'jump', 'over', 'the', 'lazy', 'dog']\n"
          ]
        }
      ]
    },
    {
      "cell_type": "code",
      "source": [
        "pattern=r'[aeiou]'\n",
        "re.findall(pattern,text)"
      ],
      "metadata": {
        "colab": {
          "base_uri": "https://localhost:8080/"
        },
        "id": "oqdJsmv-g2ZH",
        "outputId": "b31f5def-7eea-4204-b90d-04000db0ef92"
      },
      "execution_count": 12,
      "outputs": [
        {
          "output_type": "execute_result",
          "data": {
            "text/plain": [
              "['e', 'u', 'i', 'o', 'o', 'u', 'o', 'e', 'e', 'a', 'o']"
            ]
          },
          "metadata": {},
          "execution_count": 12
        }
      ]
    },
    {
      "cell_type": "code",
      "source": [
        "pattern = r'\\b\\w{3}\\b'\n",
        "re.findall(pattern,text)"
      ],
      "metadata": {
        "colab": {
          "base_uri": "https://localhost:8080/"
        },
        "id": "6Cr_JjohhduJ",
        "outputId": "8a41b393-d341-4535-ad3c-c083e22033a0"
      },
      "execution_count": 13,
      "outputs": [
        {
          "output_type": "execute_result",
          "data": {
            "text/plain": [
              "['the', 'fox', 'the', 'dog']"
            ]
          },
          "metadata": {},
          "execution_count": 13
        }
      ]
    },
    {
      "cell_type": "code",
      "source": [
        "re.findall('^the',text)"
      ],
      "metadata": {
        "colab": {
          "base_uri": "https://localhost:8080/"
        },
        "id": "MdxVhU1JiGdd",
        "outputId": "bf89af39-0fa1-4f49-a478-6ea97fb21c5f"
      },
      "execution_count": 15,
      "outputs": [
        {
          "output_type": "execute_result",
          "data": {
            "text/plain": [
              "['the']"
            ]
          },
          "metadata": {},
          "execution_count": 15
        }
      ]
    },
    {
      "cell_type": "code",
      "source": [
        "pattern=r'(\\w+)\\s(\\w+)'\n",
        "re.findall(pattern,text)"
      ],
      "metadata": {
        "colab": {
          "base_uri": "https://localhost:8080/"
        },
        "id": "h1ZMB3pViUOM",
        "outputId": "484a4aff-60a4-4361-a598-c6d06ffb8904"
      },
      "execution_count": 16,
      "outputs": [
        {
          "output_type": "execute_result",
          "data": {
            "text/plain": [
              "[('the', 'quick'), ('brown', 'fox'), ('jump', 'over'), ('the', 'lazy')]"
            ]
          },
          "metadata": {},
          "execution_count": 16
        }
      ]
    },
    {
      "cell_type": "code",
      "source": [
        "pattern = r'\\.\\s'\n",
        "re.split(pattern,text)"
      ],
      "metadata": {
        "colab": {
          "base_uri": "https://localhost:8080/"
        },
        "id": "VC_QWwOtiuEM",
        "outputId": "9b7571ab-c4cc-490c-ef2d-9037d884964f"
      },
      "execution_count": 19,
      "outputs": [
        {
          "output_type": "execute_result",
          "data": {
            "text/plain": [
              "['the quick brown fox jump over the lazy dog']"
            ]
          },
          "metadata": {},
          "execution_count": 19
        }
      ]
    },
    {
      "cell_type": "code",
      "source": [],
      "metadata": {
        "id": "For5k4F-jOrV"
      },
      "execution_count": null,
      "outputs": []
    }
  ]
}