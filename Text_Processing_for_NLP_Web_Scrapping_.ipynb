{
  "cells": [
    {
      "cell_type": "markdown",
      "metadata": {
        "id": "VoqPCOhP2MFh"
      },
      "source": [
        "# Import necessary libraries"
      ]
    },
    {
      "cell_type": "markdown",
      "metadata": {
        "id": "1suyGpBD2MFk"
      },
      "source": [
        "First, make sure you have the required libraries installed. You might need to install them using pip if you haven't already."
      ]
    },
    {
      "cell_type": "code",
      "execution_count": 4,
      "metadata": {
        "id": "JytTvIGg2MFl"
      },
      "outputs": [],
      "source": [
        "import requests\n",
        "from bs4 import BeautifulSoup\n",
        "import re\n",
        "from nltk.tokenize import word_tokenize\n",
        "from nltk.corpus import stopwords\n",
        "from nltk.stem import PorterStemmer"
      ]
    },
    {
      "cell_type": "code",
      "source": [
        "\n",
        "import nltk\n",
        "nltk.download()"
      ],
      "metadata": {
        "colab": {
          "base_uri": "https://localhost:8080/"
        },
        "id": "YNRd9rK62knP",
        "outputId": "9be28421-30af-4e33-f979-3981a7be1905"
      },
      "execution_count": 5,
      "outputs": [
        {
          "name": "stdout",
          "output_type": "stream",
          "text": [
            "NLTK Downloader\n",
            "---------------------------------------------------------------------------\n",
            "    d) Download   l) List    u) Update   c) Config   h) Help   q) Quit\n",
            "---------------------------------------------------------------------------\n",
            "Downloader> d\n",
            "\n",
            "Download which package (l=list; x=cancel)?\n",
            "  Identifier> l\n",
            "Packages:\n",
            "  [ ] abc................. Australian Broadcasting Commission 2006\n",
            "  [ ] alpino.............. Alpino Dutch Treebank\n",
            "  [ ] averaged_perceptron_tagger Averaged Perceptron Tagger\n",
            "  [ ] averaged_perceptron_tagger_ru Averaged Perceptron Tagger (Russian)\n",
            "  [ ] basque_grammars..... Grammars for Basque\n",
            "  [ ] bcp47............... BCP-47 Language Tags\n",
            "  [ ] biocreative_ppi..... BioCreAtIvE (Critical Assessment of Information\n",
            "                           Extraction Systems in Biology)\n",
            "  [ ] bllip_wsj_no_aux.... BLLIP Parser: WSJ Model\n",
            "  [ ] book_grammars....... Grammars from NLTK Book\n",
            "  [ ] brown............... Brown Corpus\n",
            "  [ ] brown_tei........... Brown Corpus (TEI XML Version)\n",
            "  [ ] cess_cat............ CESS-CAT Treebank\n",
            "  [ ] cess_esp............ CESS-ESP Treebank\n",
            "  [ ] chat80.............. Chat-80 Data Files\n",
            "  [ ] city_database....... City Database\n",
            "  [ ] cmudict............. The Carnegie Mellon Pronouncing Dictionary (0.6)\n",
            "  [ ] comparative_sentences Comparative Sentence Dataset\n",
            "  [ ] comtrans............ ComTrans Corpus Sample\n",
            "  [ ] conll2000........... CONLL 2000 Chunking Corpus\n",
            "Hit Enter to continue: comparative_sentences\n",
            "  [ ] conll2002........... CONLL 2002 Named Entity Recognition Corpus\n",
            "  [ ] conll2007........... Dependency Treebanks from CoNLL 2007 (Catalan\n",
            "                           and Basque Subset)\n",
            "  [ ] crubadan............ Crubadan Corpus\n",
            "  [ ] dependency_treebank. Dependency Parsed Treebank\n",
            "  [ ] dolch............... Dolch Word List\n",
            "  [ ] europarl_raw........ Sample European Parliament Proceedings Parallel\n",
            "                           Corpus\n",
            "  [ ] extended_omw........ Extended Open Multilingual WordNet\n",
            "  [ ] floresta............ Portuguese Treebank\n",
            "  [ ] framenet_v15........ FrameNet 1.5\n",
            "  [ ] framenet_v17........ FrameNet 1.7\n",
            "  [ ] gazetteers.......... Gazeteer Lists\n",
            "  [ ] genesis............. Genesis Corpus\n",
            "  [ ] gutenberg........... Project Gutenberg Selections\n",
            "  [ ] ieer................ NIST IE-ER DATA SAMPLE\n",
            "  [ ] inaugural........... C-Span Inaugural Address Corpus\n",
            "  [ ] indian.............. Indian Language POS-Tagged Corpus\n",
            "  [ ] jeita............... JEITA Public Morphologically Tagged Corpus (in\n",
            "                           ChaSen format)\n",
            "  [ ] kimmo............... PC-KIMMO Data Files\n",
            "Hit Enter to continue: book_grammars\n",
            "  [ ] knbc................ KNB Corpus (Annotated blog corpus)\n",
            "  [ ] large_grammars...... Large context-free and feature-based grammars\n",
            "                           for parser comparison\n",
            "  [ ] lin_thesaurus....... Lin's Dependency Thesaurus\n",
            "  [ ] mac_morpho.......... MAC-MORPHO: Brazilian Portuguese news text with\n",
            "                           part-of-speech tags\n",
            "  [ ] machado............. Machado de Assis -- Obra Completa\n",
            "  [ ] masc_tagged......... MASC Tagged Corpus\n",
            "  [ ] maxent_ne_chunker... ACE Named Entity Chunker (Maximum entropy)\n",
            "  [ ] maxent_treebank_pos_tagger Treebank Part of Speech Tagger (Maximum entropy)\n",
            "  [ ] moses_sample........ Moses Sample Models\n",
            "  [ ] movie_reviews....... Sentiment Polarity Dataset Version 2.0\n",
            "  [ ] mte_teip5........... MULTEXT-East 1984 annotated corpus 4.0\n",
            "  [ ] mwa_ppdb............ The monolingual word aligner (Sultan et al.\n",
            "                           2015) subset of the Paraphrase Database.\n",
            "  [ ] names............... Names Corpus, Version 1.3 (1994-03-29)\n",
            "  [ ] nombank.1.0......... NomBank Corpus 1.0\n",
            "  [ ] nonbreaking_prefixes Non-Breaking Prefixes (Moses Decoder)\n",
            "  [ ] nps_chat............ NPS Chat\n",
            "  [ ] omw-1.4............. Open Multilingual Wordnet\n",
            "  [ ] omw................. Open Multilingual Wordnet\n",
            "Hit Enter to continue: large_grammars\n",
            "  [ ] opinion_lexicon..... Opinion Lexicon\n",
            "  [ ] panlex_swadesh...... PanLex Swadesh Corpora\n",
            "  [ ] paradigms........... Paradigm Corpus\n",
            "  [ ] pe08................ Cross-Framework and Cross-Domain Parser\n",
            "                           Evaluation Shared Task\n",
            "  [ ] perluniprops........ perluniprops: Index of Unicode Version 7.0.0\n",
            "                           character properties in Perl\n",
            "  [ ] pil................. The Patient Information Leaflet (PIL) Corpus\n",
            "  [ ] pl196x.............. Polish language of the XX century sixties\n",
            "  [ ] porter_test......... Porter Stemmer Test Files\n",
            "  [ ] ppattach............ Prepositional Phrase Attachment Corpus\n",
            "  [ ] problem_reports..... Problem Report Corpus\n",
            "  [ ] product_reviews_1... Product Reviews (5 Products)\n",
            "  [ ] product_reviews_2... Product Reviews (9 Products)\n",
            "  [ ] propbank............ Proposition Bank Corpus 1.0\n",
            "  [ ] pros_cons........... Pros and Cons\n",
            "  [ ] ptb................. Penn Treebank\n",
            "  [ ] punkt............... Punkt Tokenizer Models\n",
            "  [ ] qc.................. Experimental Data for Question Classification\n",
            "  [ ] reuters............. The Reuters-21578 benchmark corpus, ApteMod\n",
            "                           version\n",
            "Hit Enter to continue: punkt\n",
            "  [ ] rslp................ RSLP Stemmer (Removedor de Sufixos da Lingua\n",
            "                           Portuguesa)\n",
            "  [ ] rte................. PASCAL RTE Challenges 1, 2, and 3\n",
            "  [ ] sample_grammars..... Sample Grammars\n",
            "  [ ] semcor.............. SemCor 3.0\n",
            "  [ ] senseval............ SENSEVAL 2 Corpus: Sense Tagged Text\n",
            "  [ ] sentence_polarity... Sentence Polarity Dataset v1.0\n",
            "  [ ] sentiwordnet........ SentiWordNet\n",
            "  [ ] shakespeare......... Shakespeare XML Corpus Sample\n",
            "  [ ] sinica_treebank..... Sinica Treebank Corpus Sample\n",
            "  [ ] smultron............ SMULTRON Corpus Sample\n",
            "  [ ] snowball_data....... Snowball Data\n",
            "  [ ] spanish_grammars.... Grammars for Spanish\n",
            "  [ ] state_union......... C-Span State of the Union Address Corpus\n",
            "  [ ] stopwords........... Stopwords Corpus\n",
            "  [ ] subjectivity........ Subjectivity Dataset v1.0\n",
            "  [ ] swadesh............. Swadesh Wordlists\n",
            "  [ ] switchboard......... Switchboard Corpus Sample\n",
            "  [ ] tagsets............. Help on Tagsets\n",
            "  [ ] timit............... TIMIT Corpus Sample\n",
            "  [ ] toolbox............. Toolbox Sample Files\n",
            "Hit Enter to continue: toolbox\n",
            "  [ ] treebank............ Penn Treebank Sample\n",
            "  [ ] twitter_samples..... Twitter Samples\n",
            "  [ ] udhr2............... Universal Declaration of Human Rights Corpus\n",
            "                           (Unicode Version)\n",
            "  [ ] udhr................ Universal Declaration of Human Rights Corpus\n",
            "  [ ] unicode_samples..... Unicode Samples\n",
            "  [ ] universal_tagset.... Mappings to the Universal Part-of-Speech Tagset\n",
            "  [ ] universal_treebanks_v20 Universal Treebanks Version 2.0\n",
            "  [ ] vader_lexicon....... VADER Sentiment Lexicon\n",
            "  [ ] verbnet3............ VerbNet Lexicon, Version 3.3\n",
            "  [ ] verbnet............. VerbNet Lexicon, Version 2.1\n",
            "  [ ] webtext............. Web Text Corpus\n",
            "  [ ] wmt15_eval.......... Evaluation data from WMT15\n",
            "  [ ] word2vec_sample..... Word2Vec Sample\n",
            "  [ ] wordnet2021......... Open English Wordnet 2021\n",
            "  [ ] wordnet2022......... Open English Wordnet 2022\n",
            "  [ ] wordnet31........... Wordnet 3.1\n",
            "  [ ] wordnet............. WordNet\n",
            "  [ ] wordnet_ic.......... WordNet-InfoContent\n",
            "  [ ] words............... Word Lists\n",
            "  [ ] ycoe................ York-Toronto-Helsinki Parsed Corpus of Old\n",
            "                           English Prose\n",
            "Hit Enter to continue: words\n",
            "\n",
            "Collections:\n",
            "  [ ] all-corpora......... All the corpora\n",
            "  [ ] all-nltk............ All packages available on nltk_data gh-pages\n",
            "                           branch\n",
            "  [ ] all................. All packages\n",
            "  [ ] book................ Everything used in the NLTK Book\n",
            "  [ ] popular............. Popular packages\n",
            "  [ ] tests............... Packages for running tests\n",
            "  [ ] third-party......... Third-party data packages\n",
            "\n",
            "([*] marks installed packages)\n",
            "\n",
            "Download which package (l=list; x=cancel)?\n",
            "  Identifier> popular\n"
          ]
        },
        {
          "output_type": "stream",
          "name": "stderr",
          "text": [
            "    Downloading collection 'popular'\n",
            "       | \n",
            "       | Downloading package cmudict to /root/nltk_data...\n",
            "       |   Unzipping corpora/cmudict.zip.\n",
            "       | Downloading package gazetteers to /root/nltk_data...\n",
            "       |   Unzipping corpora/gazetteers.zip.\n",
            "       | Downloading package genesis to /root/nltk_data...\n",
            "       |   Unzipping corpora/genesis.zip.\n",
            "       | Downloading package gutenberg to /root/nltk_data...\n",
            "       |   Unzipping corpora/gutenberg.zip.\n",
            "       | Downloading package inaugural to /root/nltk_data...\n",
            "       |   Unzipping corpora/inaugural.zip.\n",
            "       | Downloading package movie_reviews to /root/nltk_data...\n",
            "       |   Unzipping corpora/movie_reviews.zip.\n",
            "       | Downloading package names to /root/nltk_data...\n",
            "       |   Unzipping corpora/names.zip.\n",
            "       | Downloading package shakespeare to /root/nltk_data...\n",
            "       |   Unzipping corpora/shakespeare.zip.\n",
            "       | Downloading package stopwords to /root/nltk_data...\n",
            "       |   Unzipping corpora/stopwords.zip.\n",
            "       | Downloading package treebank to /root/nltk_data...\n",
            "       |   Unzipping corpora/treebank.zip.\n",
            "       | Downloading package twitter_samples to /root/nltk_data...\n",
            "       |   Unzipping corpora/twitter_samples.zip.\n",
            "       | Downloading package omw to /root/nltk_data...\n",
            "       | Downloading package omw-1.4 to /root/nltk_data...\n",
            "       | Downloading package wordnet to /root/nltk_data...\n",
            "       | Downloading package wordnet2021 to /root/nltk_data...\n",
            "       | Downloading package wordnet31 to /root/nltk_data...\n",
            "       | Downloading package wordnet_ic to /root/nltk_data...\n",
            "       |   Unzipping corpora/wordnet_ic.zip.\n",
            "       | Downloading package words to /root/nltk_data...\n",
            "       |   Unzipping corpora/words.zip.\n",
            "       | Downloading package maxent_ne_chunker to /root/nltk_data...\n",
            "       |   Unzipping chunkers/maxent_ne_chunker.zip.\n",
            "       | Downloading package punkt to /root/nltk_data...\n",
            "       |   Unzipping tokenizers/punkt.zip.\n",
            "       | Downloading package snowball_data to /root/nltk_data...\n",
            "       | Downloading package averaged_perceptron_tagger to\n",
            "       |     /root/nltk_data...\n",
            "       |   Unzipping taggers/averaged_perceptron_tagger.zip.\n",
            "       | \n",
            "     Done downloading collection popular\n"
          ]
        },
        {
          "name": "stdout",
          "output_type": "stream",
          "text": [
            "\n",
            "---------------------------------------------------------------------------\n",
            "    d) Download   l) List    u) Update   c) Config   h) Help   q) Quit\n",
            "---------------------------------------------------------------------------\n",
            "Downloader> q\n"
          ]
        },
        {
          "output_type": "execute_result",
          "data": {
            "text/plain": [
              "True"
            ]
          },
          "metadata": {},
          "execution_count": 5
        }
      ]
    },
    {
      "cell_type": "markdown",
      "metadata": {
        "id": "sKJV4dRd2MFm"
      },
      "source": [
        "# Fetch and Parse HTML"
      ]
    },
    {
      "cell_type": "markdown",
      "metadata": {
        "id": "jstf7cO_2MFm"
      },
      "source": [
        "Use the requests library to fetch the HTML content of a webpage and then use BeautifulSoup to parse it."
      ]
    },
    {
      "cell_type": "code",
      "execution_count": 11,
      "metadata": {
        "id": "zn-aEgXV2MFn"
      },
      "outputs": [],
      "source": [
        "url = \"https://en.wikipedia.org/wiki/mars\"  # Replace with the URL of the webpage you want to scrape\n",
        "response = requests.get(url)\n",
        "html_content = response.content\n",
        "\n",
        "soup = BeautifulSoup(html_content, 'html.parser')"
      ]
    },
    {
      "cell_type": "markdown",
      "metadata": {
        "id": "mLDdT_4n2MFn"
      },
      "source": [
        "# Extract Text Data"
      ]
    },
    {
      "cell_type": "markdown",
      "metadata": {
        "id": "UoNnI4XU2MFn"
      },
      "source": [
        "Once you have the parsed HTML, extract the relevant text data using various methods such as .find(), .find_all(), and .get_text()."
      ]
    },
    {
      "cell_type": "code",
      "execution_count": 12,
      "metadata": {
        "id": "4LxVtuNt2MFn"
      },
      "outputs": [],
      "source": [
        "# Example: Extracting all paragraphs\n",
        "paragraphs = soup.find_all('p')\n",
        "\n",
        "# Extracting text from each paragraph\n",
        "paragraph_texts = [paragraph.get_text() for paragraph in paragraphs]"
      ]
    },
    {
      "cell_type": "markdown",
      "metadata": {
        "id": "W1dMt6Vu2MFo"
      },
      "source": [
        "# Text Preprocessing"
      ]
    },
    {
      "cell_type": "markdown",
      "metadata": {
        "id": "MDUuuWZP2MFo"
      },
      "source": [
        "Text preprocessing involves various steps to clean and normalize the extracted text."
      ]
    },
    {
      "cell_type": "code",
      "execution_count": 13,
      "metadata": {
        "id": "DkuDs0vg2MFo"
      },
      "outputs": [],
      "source": [
        "# Convert to lowercase\n",
        "lowercase_text = [text.lower() for text in paragraph_texts]\n",
        "\n",
        "# Remove special characters using regex\n",
        "cleaned_text = [re.sub(r'[^a-zA-Z0-9\\s]', '', text) for text in lowercase_text]\n",
        "\n",
        "# Tokenization\n",
        "tokenized_text = [word_tokenize(text) for text in cleaned_text]\n",
        "\n",
        "# Remove stopwords\n",
        "stop_words = set(stopwords.words('english'))\n",
        "filtered_text = [[word for word in tokens if word not in stop_words] for tokens in tokenized_text]\n",
        "\n",
        "# Stemming\n",
        "stemmer = PorterStemmer()\n",
        "stemmed_text = [[stemmer.stem(word) for word in tokens] for tokens in filtered_text]"
      ]
    },
    {
      "cell_type": "markdown",
      "metadata": {
        "id": "98bchYUl2MFo"
      },
      "source": [
        "# Further Processing"
      ]
    },
    {
      "cell_type": "markdown",
      "metadata": {
        "id": "xrijMyNs2MFp"
      },
      "source": [
        "You can perform additional steps such as removing empty tokens, converting the processed text back to sentences or paragraphs, and so on, based on your requirements."
      ]
    },
    {
      "cell_type": "code",
      "execution_count": 14,
      "metadata": {
        "id": "TuD5VCK92MFp"
      },
      "outputs": [],
      "source": [
        "# Remove empty tokens\n",
        "final_text = [[word for word in tokens if word.strip()] for tokens in stemmed_text]\n",
        "\n",
        "# Convert tokens back to sentences\n",
        "sentences = [' '.join(tokens) for tokens in final_text]\n",
        "\n",
        "# Convert sentences back to paragraphs\n",
        "processed_paragraphs = '\\n\\n'.join(sentences)"
      ]
    },
    {
      "cell_type": "markdown",
      "metadata": {
        "id": "j6E_a_ca2MFp"
      },
      "source": [
        "# Save Processed Text"
      ]
    },
    {
      "cell_type": "markdown",
      "metadata": {
        "id": "WhJLW6Ge2MFp"
      },
      "source": [
        "Finally, you can save the processed text to a file for further analysis."
      ]
    },
    {
      "cell_type": "code",
      "execution_count": 15,
      "metadata": {
        "colab": {
          "base_uri": "https://localhost:8080/"
        },
        "id": "zESJcS5w2MFq",
        "outputId": "2e757ad5-c62d-4c18-a943-686ec9efa5e5"
      },
      "outputs": [
        {
          "output_type": "stream",
          "name": "stdout",
          "text": [
            "\n",
            "\n",
            "mar fourth planet sun surfac mar orang cover ironiii oxid dust give nicknam red planet2122 mar host mani enorm extinct volcano olympu mon 219 km 136 mi tall one largest canyon solar system vall marineri 4000 km 2500 mi long comparison marss diamet 6779 km 4212 mi classifi terrestri planet second smallest solar system planet\n",
            "\n",
            "view close rel flat plain northern part mar strongli contrast crater terrain southern highland terrain observ known martian dichotomi geolog planet fairli activ marsquak trembl underneath ground dust devil sweep across landscap cirru cloud carbon dioxid substanti present marss polar ice cap thin atmospher\n",
            "\n",
            "term orbit motion martian solar day sol equal 245 hour martian solar year equal 188 earth year 687 earth day year larg surfac temperatur swing surfac 785 c 1093 f 57 c 423 fc similar earth season planet signific orbit eccentr axial tilt mar two natur satellit small irregular shape phobo deimo\n",
            "\n",
            "mar form approxim 45 billion year ago noachian period 45 35 billion year ago marss surfac mark meteor impact valley format eros possibl presenc water ocean hesperian period 35 3329 billion year ago domin widespread volcan activ flood carv immens outflow channel amazonian period continu present mark wind domin influenc geolog process unknown whether life ever exist mar\n",
            "\n",
            "mar among brightest object earth sky highcontrast albedo featur make common subject telescop view sinc late 20th centuri mar explor uncrew spacecraft rover first flybi marin 4 probe 1965 first mar orbit mar 2 probe 1971 first land vike 1 probe 1976 2023 least 11 activ probe orbit mar martian surfac mar attract target futur human explor mission though 2020 mission plan\n",
            "\n",
            "scientist theoriz solar system format mar creat result random process runaway accret materi protoplanetari disk orbit sun mar mani distinct chemic featur caus posit solar system element compar low boil point chlorin phosphoru sulfur much common mar earth element probabl push outward young sun energet solar wind23\n",
            "\n",
            "format planet subject socal late heavi bombard 60 surfac mar show record impact era242526 wherea much remain surfac probabl underlain immens impact basin caus event evid enorm impact basin northern hemispher mar span 10600 8500 kilometr 6600 5300 mi roughli four time size moon south pole aitken basin largest impact basin yet discovered27 theori suggest mar struck plutos bodi four billion year ago event thought caus martian hemispher dichotomi creat smooth boreali basin cover 40 planet2829\n",
            "\n",
            "2023 studi show evid base orbit inclin deimo small moon mar mar may ring system 35 billion year 4 billion year ago30 ring system may form moon 20 time massiv phobo orbit mar billion year ago phobo would remnant ring3132\n",
            "\n",
            "geolog histori mar split mani period follow three primari periods3334\n",
            "\n",
            "geolog activ still take place mar athabasca vall home sheetlik lava flow creat 200 mya water flow graben call cerberu fossa occur less 20 mya indic equal recent volcan intrusions36 mar reconnaiss orbit captur imag avalanches3738\n",
            "\n",
            "mar approxim half diamet earth surfac area slightli less total area earth dri land2 mar less dens earth 15 earth volum 11 earth mass result 38 earth surfac graviti mar present known exampl desert planet rocki planet surfac akin earth hot desert redorang appear martian surfac caus ferric oxid rust39 look like butterscotch40 common surfac color includ golden brown tan greenish depend miner present40\n",
            "\n",
            "like earth mar differenti dens metal core overlaid less dens materials4142 current model interior impli core consist primarili iron nickel 1617 sulfur43 ironii sulfid core thought twice rich lighter element earths44 core surround silic mantl form mani tecton volcan featur planet appear dormant besid silicon oxygen abund element martian crust iron magnesium aluminium calcium potassium averag thick planet crust 50 kilometr 31 mi maximum thick 125 kilometr 78 mi44 comparison earth crust averag 40 kilometr 25 mi thickness4546\n",
            "\n",
            "mar confirm seismic activ 2019 report insight offlin detect record 450 marsquak relat events4748 2021 report base eleven lowfrequ marsquak detect insight lander core mar determin liquid martian core also found radiu 183040 km temperatur around 19002000 k martian core radiu abnorm larg account half radiu mar core radiu mar half size earth core radiu suggest core contain amount lighter element like oxygen hydrogen addit ironnickel alloy 15 sulfur4950\n",
            "\n",
            "core mar overlaid rocki mantl seem thermal insul layer analog earth lower mantle50 martian mantl appear solid depth 500 km lowveloc zone partial melt asthenospher begins51 asthenospher veloc seismic wave start grow depth 1050 km lie boundari transit zone extend core50\n",
            "\n",
            "analysi data insight lander suggest mar liquid core5253 addit 25 octob 2023 report scientist use data insight mar radioact magma ocean crust54\n",
            "\n",
            "mar terrestri planet surfac consist miner contain silicon oxygen metal element typic make rock martian surfac primarili compos tholeiit basalt55 although part silicarich typic basalt may similar andesit rock earth silica glass region low albedo suggest concentr plagioclas feldspar northern low albedo region display higher normal concentr sheet silic highsilicon glass part southern highland includ detect amount highcalcium pyroxen local concentr hematit olivin found56 much surfac deepli cover fine grain ironiii oxid dust57\n",
            "\n",
            "although mar evid structur global magnet field58 observ show part planet crust magnet suggest altern polar revers dipol field occur past paleomagnet magnet suscept miner similar altern band found earth ocean floor one theori publish 1999 reexamin octob 2005 help mar global surveyor band suggest plate tecton activ mar four billion year ago planetari dynamo ceas function planet magnet field faded59\n",
            "\n",
            "phoenix lander return data show martian soil slightli alkalin contain element magnesium sodium potassium chlorin nutrient found soil earth necessari growth plants60 experi perform lander show martian soil basic ph 77 contain 06 salt perchlorate6162 concentr toxic humans6364\n",
            "\n",
            "streak common across mar new one appear frequent steep slope crater trough valley streak dark first get lighter age streak start tini area spread hundr metr seen follow edg boulder obstacl path commonli accept theori includ dark underli layer soil reveal avalanch bright dust dust devils65 sever explan put forward includ involv water even growth organisms6667\n",
            "\n",
            "radiat level surfac averag 064 millisievert radiat per day significantli less radiat 184 millisievert per day 22 millirad per day flight mars6869 comparison radiat level low earth orbit earth space station orbit around 05 millisievert radiat per day70 hella planitia lowest surfac radiat 0342 millisievert per day featur lava tube southwest hadriacu mon potenti level low 0064 millisievert per day71\n",
            "\n",
            "\n",
            "\n",
            "although better rememb map moon johann heinrich mdler wilhelm beer first areograph began establish marss surfac featur perman precis determin planet rotat period 1840 mdler combin ten year observ drew first map mars72\n",
            "\n",
            "featur mar name varieti sourc albedo featur name classic mytholog crater larger roughli 50 km name deceas scientist writer other contribut studi mar smaller crater name town villag world popul less 100000 larg valley name word mar star variou languag smaller valley name rivers73\n",
            "\n",
            "larg albedo featur retain mani older name often updat reflect new knowledg natur featur exampl nix olympica snow olympu becom olympu mon mount olympus74 surfac mar seen earth divid two kind area differ albedo paler plain cover dust sand rich reddish iron oxid thought martian contin given name like arabia terra land arabia amazoni planitia amazonian plain dark featur thought sea henc name mare erythraeum mare sirenum aurora sinu largest dark featur seen earth syrti major planum75 perman northern polar ice cap name planum boreum southern cap call planum australe76\n",
            "\n",
            "marss equat defin rotat locat prime meridian specifi earth greenwich choic arbitrari point mdler beer select line first map mar 1830 spacecraft marin 9 provid extens imageri mar 1972 small crater later call airy0 locat sinu meridiani middl bay meridian bay chosen merton davi harold masurski grard de vaucouleur definit 00 longitud coincid origin selection777879\n",
            "\n",
            "mar ocean henc sea level zeroelev surfac select refer level call areoid80 mar analog terrestri geoid81 zero altitud defin height 6105 pa 6105 mbar atmospher pressure82 pressur correspond tripl point water 06 sea level surfac pressur earth 0006 atm83\n",
            "\n",
            "map purpos unit state geolog survey divid surfac mar thirti cartograph quadrangl name classic albedo featur contains84 april 2023 new york time report updat global map mar base imag hope spacecraft85 relat much detail global mar map releas nasa 16 april 202386\n",
            "\n",
            "vast upland region tharsi contain sever extinct volcano includ shield volcano olympu mon mount olympu edific 600 km 370 mi wide8788 mountain larg complex structur edg give definit height difficult local relief foot cliff form northwest margin peak 21 km 13 mi88 littl twice height mauna kea measur base ocean floor total elev chang plain amazoni planitia 1000 km 620 mi northwest summit approach 26 km 16 mi89 roughli three time height mount everest comparison stand 88 kilometr 55 mi consequ olympu mon either tallest secondtallest mountain solar system known mountain might taller rheasilvia peak asteroid vesta 2025 km 1216 mi90\n",
            "\n",
            "dichotomi martian topographi strike northern plain flatten lava flow contrast southern highland pit crater ancient impact possibl four billion year ago northern hemispher mar struck object onetenth twothird size earth moon case northern hemispher mar would site impact crater 10600 8500 kilometr 6600 5300 mi size roughli area europ asia australia combin surpass utopia planitia moon south poleaitken basin largest impact crater solar system919293\n",
            "\n",
            "mar scar number impact crater total 43000 crater diamet 5 kilometr 31 mi greater found94 largest expos crater hella 2300 kilometr 1400 mi wide 7000 metr 23000 ft deep light albedo featur clearli visibl earth9596 notabl impact featur argyr around 1800 kilometr 1100 mi diameter97 isidi around 1500 kilometr 930 mi diameter98 due smaller mass size mar probabl object collid planet half earth mar locat closer asteroid belt increas chanc struck materi sourc mar like struck shortperiod comet ie lie within orbit jupiter99\n",
            "\n",
            "martian crater morpholog suggest ground becam wet meteor impacted100\n",
            "\n",
            "larg canyon vall marineri latin marin valley also known agathodaemon old canal maps101 length 4000 kilometr 2500 mi depth 7 kilometr 43 mi length vall marineri equival length europ extend across onefifth circumfer mar comparison grand canyon earth 446 kilometr 277 mi long nearli 2 kilometr 12 mi deep vall marineri form due swell tharsi area caus crust area vall marineri collaps 2012 propos vall marineri graben plate boundari 150 kilometr 93 mi transvers motion occur make mar planet possibl twotecton plate arrangement102103\n",
            "\n",
            "imag thermal emiss imag system themi aboard nasa mar odyssey orbit reveal seven possibl cave entranc flank volcano arsia mons104 cave name love one discover collect known seven sisters105 cave entranc measur 100 252 metr 328 827 ft wide estim least 73 96 metr 240 315 ft deep light reach floor cave may extend much deeper lower estim widen surfac dena except floor visibl measur 130 metr 430 ft deep interior cavern may protect micrometeoroid uv radiat solar flare high energi particl bombard planet surface106107\n",
            "\n",
            "mar lost magnetospher 4 billion year ago108 possibl numer asteroid strikes109 solar wind interact directli martian ionospher lower atmospher densiti strip away atom outer layer110 mar global surveyor mar express detect ionis atmospher particl trail space behind mars108111 atmospher loss studi maven orbit compar earth atmospher mar quit rarefi atmospher pressur surfac today rang low 30 pa 00044 psi olympu mon 1155 pa 01675 psi hella planitia mean pressur surfac level 600 pa 0087 psi112 highest atmospher densiti mar equal found 35 kilometr 22 mi113 earth surfac result mean surfac pressur 06 earth 1013 kpa 1469 psi scale height atmospher 108 kilometr 67 mi114 higher earth 6 kilometr 37 mi surfac graviti mar 38 earths115\n",
            "\n",
            "atmospher mar consist 96 carbon dioxid 193 argon 189 nitrogen along trace oxygen water2116110 atmospher quit dusti contain particul 15 diamet give martian sky tawni color seen surface117 may take pink hue due iron oxid particl suspend it21 concentr methan martian atmospher fluctuat 024 ppb northern winter 065 ppb summer118 estim lifetim rang 06 4 years119120 presenc indic activ sourc ga must present methan could produc nonbiolog process serpentin involv water carbon dioxid miner olivin known common mars121 martian life122\n",
            "\n",
            "compar earth higher concentr atmospher co2 lower surfac pressur may sound attenu mar natur sourc rare apart wind use acoust record collect persever rover research conclud speed sound approxim 240 ms frequenc 240 hz 250 ms above124125\n",
            "\n",
            "aurora detect mars126127128 mar lack global magnet field type distribut aurora differ earth129 rather mostli restrict polar region case earth martian aurora encompass planet130 septemb 2017 nasa report radiat level surfac planet mar temporarili doubl associ aurora 25 time brighter observ earlier due massiv unexpect solar storm middl month130131\n",
            "\n",
            "planet solar system season mar earthlik due similar tilt two planet rotat axe length martian season twice earth marss greater distanc sun lead martian year two earth year long martian surfac temperatur vari low 110 c 166 f high 35 c 95 f equatori summer15 wide rang temperatur due thin atmospher store much solar heat low atmospher pressur 1 atmospher earth low thermal inertia martian soil132 planet 152 time far sun earth result 43 amount sunlight133134\n",
            "\n",
            "mar earthlik orbit season would similar earth axial tilt similar earth compar larg eccentr martian orbit signific effect mar near perihelion summer southern hemispher winter north near aphelion winter southern hemispher summer north result season southern hemispher extrem season northern milder would otherwis case summer temperatur south warmer equival summer temperatur north 30 c 54 f135\n",
            "\n",
            "mar largest dust storm solar system reach speed 160 kmh 100 mph vari storm small area gigant storm cover entir planet tend occur mar closest sun shown increas global temperature136\n",
            "\n",
            "water liquid form exist surfac mar due low atmospher pressur less 1 earth137 except lowest elev short periods42138 two polar ice cap appear made larg water139140 volum water ice south polar ice cap melt would enough cover entir surfac planet depth 11 metr 36 ft141 larg quantiti ice thought trap within thick cryospher mar radar data mar express mar reconnaiss orbit mro show larg quantiti ice poles142143 middl latitudes144 phoenix lander directli sampl water ice shallow martian soil 31 juli 2008145\n",
            "\n",
            "landform visibl mar strongli suggest liquid water exist planet surfac huge linear swath scour ground known outflow channel cut across surfac 25 place thought record eros caus catastroph releas water subsurfac aquif though structur hypothes result action glacier lava146147 one larger exampl maadim valli 700 kilometr 430 mi long much greater grand canyon width 20 kilometr 12 mi depth 2 kilometr 12 mi place thought carv flow water earli marss history148 youngest channel thought form million year ago149\n",
            "\n",
            "elsewher particularli oldest area martian surfac finerscal dendrit network valley spread across signific proport landscap featur valley distribut strongli impli carv runoff result precipit earli mar histori subsurfac water flow groundwat sap may play import subsidiari role network precipit probabl root caus incis almost cases150\n",
            "\n",
            "along crater canyon wall thousand featur appear similar terrestri gulli gulli tend highland southern hemispher face equat poleward 30 latitud number author suggest format process involv liquid water probabl melt ice151152 although other argu format mechan involv carbon dioxid frost movement dri dust153154 partial degrad gulli form weather superimpos impact crater observ indic young featur possibl still active152 geolog featur delta alluvi fan preserv crater evid warmer wetter condit interv interv earlier mar history155 condit necessarili requir widespread presenc crater lake across larg proport surfac independ mineralog sedimentolog geomorpholog evidence156 evid liquid water exist surfac mar come detect specif miner hematit goethit sometim form presenc water157\n",
            "\n",
            "mar two perman polar ice cap pole winter lie continu dark chill surfac caus deposit 2530 atmospher slab co2 ice dri ice159 pole expos sunlight frozen co2 sublim season action transport larg amount dust water vapor give rise earthlik frost larg cirru cloud cloud wateric photograph opportun rover 2004160\n",
            "\n",
            "cap pole consist primarili water ice frozen carbon dioxid accumul compar thin layer one metr thick north cap northern winter wherea south cap perman dri ice cover eight metr thick perman dri ice cover south pole pepper flat floor shallow roughli circular pit repeat imag show expand place retreat others161 northern polar cap diamet 1000 kilometr 620 mi162 contain 16 million cubic kilometr 571016 cu ft ice spread evenli cap would 2 kilometr 12 mi thick163 compar volum 285 million cubic kilometr 1011017 cu ft greenland ice sheet southern polar cap diamet 350 kilometr 220 mi thick 3 kilometr 19 mi164 total volum ice south polar cap plu adjac layer deposit estim 16 million cubic km165 polar cap show spiral trough recent analysi sharad ice penetr radar shown result katabat wind spiral due corioli effect166167\n",
            "\n",
            "season frost area near southern ice cap result format transpar 1metrethick slab dri ice ground arriv spring sunlight warm subsurfac pressur sublim co2 build slab elev ultim ruptur lead geyserlik erupt co2 ga mix dark basalt sand dust process rapid observ happen space day week month rate chang rather unusu geolog especi mar ga rush underneath slab site geyser carv spiderweblik pattern radial channel ice process invert equival eros network form water drain singl plughole168169\n",
            "\n",
            "2004 opportun detect miner jarosit form presenc acid water show water exist mars170171 spirit rover found concentr deposit silica 2007 indic wet condit past decemb 2011 miner gypsum also form presenc water found surfac nasa mar rover opportunity172173174 estim amount water upper mantl mar repres hydroxyl ion contain within martian miner equal greater earth 50300 part per million water enough cover entir planet depth 2001000 metr 6603280 ft175176\n",
            "\n",
            "18 march 2013 nasa report evid instrument curios rover miner hydrat like hydrat calcium sulfat sever rock sampl includ broken fragment tintina rock sutton inlier rock well vein nodul rock like knorr rock wernick rock177178 analysi use rover dan instrument provid evid subsurfac water amount much 4 water content depth 60 centimetr 24 rover travers bradburi land site yellowknif bay area glenelg terrain177 septemb 2015 nasa announc found strong evid hydrat brine flow recur slope linea base spectromet read darken area slopes179180181 streak flow downhil martian summer temperatur 23 c freez lower temperatures182 observ support earlier hypothes base time format rate growth dark streak result water flow surface183 howev later work suggest linea may dri granular flow instead limit role water initi process184 definit conclus presenc extent role liquid water martian surfac remain elusive185186\n",
            "\n",
            "research suspect much low northern plain planet cover ocean hundr meter deep though theori remain controversial187 march 2015 scientist state ocean might size earth arctic ocean find deriv ratio protium deuterium modern martian atmospher compar ratio earth amount martian deuterium dh 93 17 104 five seven time amount earth dh 156 104 suggest ancient mar significantli higher level water result curios rover previous found high ratio deuterium gale crater though significantli high enough suggest former presenc ocean scientist caution result confirm point martian climat model yet shown planet warm enough past support bodi liquid water188 near northern polar cap 814 kilometr 506 mi wide korolev crater mar express orbit found fill approxim 2200 cubic kilometr 530 cu mi water ice189\n",
            "\n",
            "novemb 2016 nasa report find larg amount underground ice utopia planitia region volum water detect estim equival volum water lake superior 12100 cubic kilometres190191192 observ 2018 2021 exomar trace ga orbit spot indic water probabl subsurfac ice vall marineri canyon system193\n",
            "\n",
            "\n",
            "\n",
            "marss averag distanc sun roughli 230 million km 143 million mi orbit period 687 earth day solar day sol mar slightli longer earth day 24 hour 39 minut 35244 seconds194 martian year equal 18809 earth year 1 year 320 day 182 hours2 gravit potenti differ thu deltav need transfer mar earth second lowest earth195196\n",
            "\n",
            "axial tilt mar 2519 rel orbit plane similar axial tilt earth2 result mar season like earth though mar nearli twice long orbit period much longer present day epoch orient north pole mar close star deneb20\n",
            "\n",
            "mar rel pronounc orbit eccentr 009 seven planet solar system mercuri larger orbit eccentr known past mar much circular orbit one point 135 million earth year ago mar eccentr roughli 0002 much less earth today197 marss cycl eccentr 96000 earth year compar earth cycl 100000 years198\n",
            "\n",
            "mar closest approach earth opposit synod period 77994 day confus mar conjunct earth mar opposit side solar system form straight line cross sun averag time success opposit mar synod period 780 day number day success opposit rang 764 812198 distanc close approach vari 54 103 million km 34 64 million mi due planet ellipt orbit caus compar variat angular size199 mar come opposit earth everi 21 year planet come opposit near marss perihelion 2003 2018 2035 2020 2033 event particularli close perihel opposition200201202\n",
            "\n",
            "mean appar magnitud mar 071 standard deviat 10518 orbit mar eccentr magnitud opposit sun rang 30 14203 minimum bright magnitud 186 planet near aphelion conjunct sun18 brightest mar along jupit second venu appar brightness18 mar usual appear distinctli yellow orang red farthest away earth seven time farther away closest mar usual close enough particularli good view twice 15year 17year intervals204 optic groundbas telescop typic limit resolv featur 300 kilometr 190 mi across earth mar closest earth atmosphere205\n",
            "\n",
            "mar approach opposit begin period retrograd motion mean appear move backward loop curv respect background star retrograd motion last 72 day mar reach peak appar bright middl interval206\n",
            "\n",
            "mar two rel small compar earth natur moon phobo 22 kilometr 14 mi diamet deimo 12 kilometr 75 mi diamet orbit close planet origin moon unclear although popular theori state asteroid captur martian orbit207\n",
            "\n",
            "satellit discov 1877 asaph hall name charact phobo deiti panic fear deimo deiti terror dread twin greek mytholog accompani father are god war battle208 mar roman equival are modern greek planet retain ancient name are ari 92\n",
            "\n",
            "surfac mar motion phobo deimo appear differ earth satellit moon phobo rise west set east rise 11 hour deimo outsid synchron orbit orbit period would match planet period rotat rise expect east slowli orbit phobo synchron altitud tidal forc mar gradual lower orbit 50 million year could either crash marss surfac break ring structur around planet209\n",
            "\n",
            "origin two satellit well understood low albedo carbonac chondrit composit regard similar asteroid support captur theori unstabl orbit phobo would seem point toward rel recent captur circular orbit near equat unusu captur object requir captur dynam complex accret earli histori mar plausibl would account composit resembl asteroid rather mar confirmed210 mar may yetundiscov moon smaller 50 100 metr 160 330 ft diamet dust ring predict exist phobo deimos211\n",
            "\n",
            "third possibl origin satellit mar involv third bodi type impact disrupt morerec line evid phobo highli porou interior212 suggest composit contain mainli phyllosil miner known mars213 point toward origin phobo materi eject impact mar reaccret martian orbit similar prevail theori origin earth satellit although visibl nearinfrar vnir spectra moon mar resembl outerbelt asteroid thermal infrar spectra phobo report inconsist chondrit class213 also possibl phobo deimo fragment older moon form debri larg impact mar destroy recent impact upon satellite214\n",
            "\n",
            "histori observ mar mark opposit mar planet closest earth henc easili visibl occur everi coupl year even notabl perihel opposit mar distinguish mar close perihelion make even closer earth200\n",
            "\n",
            "ancient sumerian name mar nergal god war plagu sumerian time nergal minor deiti littl signific later time main cult center citi nineveh215 mesopotamian text mar refer star judgement fate dead216 exist mar wander object night sky also record ancient egyptian astronom 1534 bce familiar retrograd motion planet217 period neobabylonian empir babylonian astronom make regular record posit planet systemat observ behavior mar knew planet made 37 synod period 42 circuit zodiac everi 79 year invent arithmet method make minor correct predict posit planets218219 ancient greec planet known 220 commonli greek name planet refer mar are roman name planet mar god war often repres sword shield planet namesake221\n",
            "\n",
            "fourth centuri bce aristotl note mar disappear behind moon occult indic planet farther away222 ptolemi greek live alexandria223 attempt address problem orbit motion mar ptolemi model collect work astronomi present multivolum collect later call almagest arab greatest becam authorit treatis western astronomi next fourteen centuries224 literatur ancient china confirm mar known chines astronom later fourth centuri bce225 east asian cultur mar tradit refer fire star base wux system226227228\n",
            "\n",
            "seventeenth centuri ad tycho brahe measur diurnal parallax mar johann kepler use make preliminari calcul rel distanc planet229 brahe observ mar kepler deduc planet orbit sun circl ellips moreov kepler show mar sped approach sun slow move farther away manner later physicist would explain consequ conserv angular momentum230 433437 telescop becam avail diurnal parallax mar measur effort determin sunearth distanc first perform giovanni domenico cassini 1672 earli parallax measur hamper qualiti instruments231 occult mar venu observ 13 octob 1590 seen michael maestlin heidelberg232 1610 mar view italian astronom galileo galilei first see via telescope233 first person draw map mar display terrain featur dutch astronom christiaan huygens234\n",
            "\n",
            "19th centuri resolut telescop reach level suffici surfac featur identifi 5 septemb 1877 perihel opposit mar occur italian astronom giovanni schiaparelli use 22centimetr 87 telescop milan help produc first detail map mar map notabl contain featur call canali later shown optic illus canali supposedli long straight line surfac mar gave name famou river earth term mean channel groov popularli mistransl english canals235236\n",
            "\n",
            "influenc observ orientalist perciv lowel found observatori 30 45centimetr 12 18in telescop observatori use explor mar last good opportun 1894 follow less favor opposit publish sever book mar life planet great influenc public237238 canali independ observ astronom like henri joseph perrotin loui thollon nice use one largest telescop time239240\n",
            "\n",
            "season chang consist diminish polar cap dark area form martian summer combin canal led specul life mar longheld belief mar contain vast sea veget bigger telescop use fewer long straight canali observ observ 1909 antoniadi 84centimetr 33 telescop irregular pattern observ canali seen241\n",
            "\n",
            "dozen crewless spacecraft includ orbit lander rover sent mar soviet union unit state europ india unit arab emir china studi planet surfac climat geology242 nasa marin 4 first spacecraft visit mar launch 28 novemb 1964 made closest approach planet 15 juli 1965 marin 4 detect weak martian radiat belt measur 01 earth captur first imag anoth planet deep space243\n",
            "\n",
            "spacecraft visit planet nasa marin mission 1960 1970 mani previou concept mar radic broken result vike lifedetect experi hypothesi dead planet gener accepted244 data marin 9 vike allow better map mar made mar global surveyor mission launch 1996 oper late 2006 produc complet extrem detail map martian topographi magnet field surfac minerals245 map avail onlin websit includ googl mar mar reconnaiss orbit mar express continu explor new instrument support lander mission nasa provid two onlin tool mar trek provid visual planet use data 50 year explor experi curios simul travel mar 3d curiosity246247\n",
            "\n",
            "2023updat mar host ten function spacecraft eight orbit 2001 mar odyssey mar express mar reconnaiss orbit maven exomar trace ga orbit hope orbit tianwen1 orbiter248249 anoth two surfac mar scienc laboratori curios rover persever rover250\n",
            "\n",
            "plan mission mar includ rosalind franklin rover mission design search evid past life intend launch 2018 repeatedli delay launch date push 2024 earliest like one sometim 2028251252253 current concept joint nasaesa mission return sampl mar would launch 2026254255\n",
            "\n",
            "late 19th centuri wide accept astronom commun mar lifesupport qualiti includ presenc oxygen water256 howev 1894 w w campbel lick observatori observ planet found water vapor oxygen occur atmospher mar quantiti small detect spectroscop available256 observ contradict mani measur time wide accepted256 campbel v slipher repeat studi 1909 use better instrument result find confirm w adam 1925 myth earthlik habit mar final broken256 howev even 1960 articl publish martian biolog put asid explan life season chang mars257\n",
            "\n",
            "current understand planetari habit abil world develop environment condit favor emerg life favor planet liquid water surfac often requir orbit planet lie within habit zone sun estim extend within orbit earth mars258 perihelion mar dip insid region marss thin lowpressur atmospher prevent liquid water exist larg region extend period past flow liquid water demonstr planet potenti habit recent evid suggest water martian surfac may salti acid support regular terrestri life259\n",
            "\n",
            "environment condit mar challeng sustain organ life planet littl heat transfer across surfac poor insul bombard solar wind due absenc magnetospher insuffici atmospher pressur retain water liquid form water instead sublim gaseou state mar nearli perhap total geolog dead end volcan activ appar stop recycl chemic miner surfac interior planet260\n",
            "\n",
            "evid suggest planet significantli habit today whether live organ ever exist remain unknown vike probe mid1970 carri experi design detect microorgan martian soil respect land site posit result includ temporari increas co2 product exposur water nutrient sign life later disput scientist result continu debat nasa scientist gilbert levin assert vike may found life261 2014 analysi martian meteorit eeta79001 found chlorat perchlor nitrat ion suffici high concentr suggest widespread mar uv xray radiat would turn chlorat perchlor ion highli reactiv oxychlorin indic organ molecul would buri surfac survive262\n",
            "\n",
            "small quantiti methan formaldehyd detect mar orbit claim possibl evid life chemic compound would quickli break martian atmosphere263264 altern compound may instead replenish volcan geolog mean serpentinite121 impact glass form impact meteor earth preserv sign life also found surfac impact crater mars265266 likewis glass impact crater mar could preserv sign life life exist site267268269\n",
            "\n",
            "sever plan human mission mar propos throughout 20th 21st centuri none come fruition nasa author act 2017 direct nasa studi feasibl crew mar mission earli 2030 result report eventu conclud would unfeasible270271 addit 2021 china plan send crew mar mission 2033272 privat held compani spacex also propos plan send human mar eventu goal settl planet273 moon phobo propos anchor point space elevator274\n",
            "\n",
            "mar name roman god war associ mar war date back least babylonian astronomi planet name god nergal deiti war destruction275276 persist modern time exemplifi gustav holst orchestr suit planet whose famou first movement label mar bringer war277 planet symbol circl spear point upper right also use symbol male gender278 symbol date least 11th centuri though possibl predecessor found greek oxyrhynchu papyri279\n",
            "\n",
            "idea mar popul intellig martian becam widespread late 19th centuri schiaparelli canali observ combin perciv lowel book subject put forward standard notion planet dri cool die world ancient civil construct irrig works280 mani observ proclam notabl person ad term mar fever281 highresolut map surfac mar reveal artifact habit pseudoscientif specul intellig life mar still continu reminisc canali observ specul base small scale featur perceiv spacecraft imag pyramid face mars282 book cosmo planetari astronom carl sagan wrote mar becom kind mythic arena onto project earthli hope fears236\n",
            "\n",
            "depict mar fiction stimul dramat red color nineteenthcenturi scientif specul surfac condit might support life intellig life283 gave way mani scienc fiction stori involv concept h g wellss war world martian seek escap die planet invad earth ray bradburi martian chronicl human explor accident destroy martian civil well edgar rice burroughss seri barsoom c lewiss novel silent planet 1938284 number robert heinlein stori midsixties285 sinc depict martian also extend anim comic figur intellig martian marvin martian appear haredevil hare 1948 charact looney tune anim cartoon warner brother continu part popular cultur present286 marin vike spacecraft return pictur mar lifeless canalless world idea mar abandon mani sciencefict author new discoveri initi seem like constraint eventu postvik knowledg mar becam sourc inspir work like kim stanley robinson mar trilogy287\n",
            "\n",
            "solar system local interstellar cloud local bubbl gould belt orion arm milki way milki way subgroup local group local sheet virgo superclust laniakea superclust local hole observ univers universeeach arrow may read within part\n"
          ]
        }
      ],
      "source": [
        "with open('processed_text.txt', 'w', encoding='utf-8') as file:\n",
        "    file.write(processed_paragraphs)\n",
        "\n",
        "print(processed_paragraphs)\n"
      ]
    },
    {
      "cell_type": "code",
      "execution_count": null,
      "metadata": {
        "id": "4-ebic7w2MFq"
      },
      "outputs": [],
      "source": []
    }
  ],
  "metadata": {
    "kernelspec": {
      "display_name": "Python 3",
      "name": "python3"
    },
    "language_info": {
      "codemirror_mode": {
        "name": "ipython",
        "version": 3
      },
      "file_extension": ".py",
      "mimetype": "text/x-python",
      "name": "python",
      "nbconvert_exporter": "python",
      "pygments_lexer": "ipython3",
      "version": "3.8.5"
    },
    "colab": {
      "provenance": [],
      "gpuType": "T4"
    }
  },
  "nbformat": 4,
  "nbformat_minor": 0
}