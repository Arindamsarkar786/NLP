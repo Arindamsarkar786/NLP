{
  "nbformat": 4,
  "nbformat_minor": 0,
  "metadata": {
    "colab": {
      "provenance": []
    },
    "kernelspec": {
      "name": "python3",
      "display_name": "Python 3"
    },
    "language_info": {
      "name": "python"
    }
  },
  "cells": [
    {
      "cell_type": "code",
      "execution_count": 8,
      "metadata": {
        "id": "hfS70_kPAcJF"
      },
      "outputs": [],
      "source": [
        "import nltk\n",
        "from nltk.tokenize import word_tokenize,sent_tokenize"
      ]
    },
    {
      "cell_type": "code",
      "source": [
        "from gensim.models import Word2Vec\n",
        "import nltk\n",
        "from nltk.tokenize import word_tokenize, sent_tokenize\n",
        "nltk.download('punkt')"
      ],
      "metadata": {
        "colab": {
          "base_uri": "https://localhost:8080/"
        },
        "id": "PQGnWLbkArZC",
        "outputId": "e772e43f-d700-4ecf-9139-61815e846e67"
      },
      "execution_count": 44,
      "outputs": [
        {
          "output_type": "stream",
          "name": "stderr",
          "text": [
            "[nltk_data] Downloading package punkt to /root/nltk_data...\n",
            "[nltk_data]   Package punkt is already up-to-date!\n"
          ]
        },
        {
          "output_type": "execute_result",
          "data": {
            "text/plain": [
              "True"
            ]
          },
          "metadata": {},
          "execution_count": 44
        }
      ]
    },
    {
      "cell_type": "code",
      "source": [
        "text ='''The Cow is a very useful animal and gives us milk. Milk considered a complete and nutritious food. The Cow is a domestic and religious animal. In India, it is a ritual and custom to worship Cow. Cow’s milk used in the pooja, Abhishek, and other holy Everyone called Coweryone “Gau Mata” to give her mother-like status in the Hindu religion. It has a large body, four legs, one long tail, two horns, two ears, two eyes, one big nose, one big mouth, and also one head. Moreover cow found in almost every region of the country.\n",
        "\n",
        "It is found in different shapes and sizes. Cow found in our country become small however big cows found in other countries. We should take good care of the Cow and give her quality food and clean water. She eats green grasses, food, grains, hay, and other things. First, she chews the food well and slowly swallows to her stomach. Her back is long and wide.'''"
      ],
      "metadata": {
        "id": "4iQArqWJBAkO"
      },
      "execution_count": 45,
      "outputs": []
    },
    {
      "cell_type": "code",
      "source": [
        "print(\"Tokenize into sentences and words\")\n",
        "sentences = sent_tokenize(text)\n",
        "tokenized_sentences = [word_tokenize(sentence.lower()) for sentence in sentences]\n",
        "print(\"Tokenized sentences:\", tokenized_sentences)\n",
        "print()"
      ],
      "metadata": {
        "colab": {
          "base_uri": "https://localhost:8080/"
        },
        "id": "mbBstQcMBWb7",
        "outputId": "33cb650a-049b-49e9-eff6-44b60bc45c4e"
      },
      "execution_count": 46,
      "outputs": [
        {
          "output_type": "stream",
          "name": "stdout",
          "text": [
            "Tokenize into sentences and words\n",
            "Tokenized sentences: [['the', 'cow', 'is', 'a', 'very', 'useful', 'animal', 'and', 'gives', 'us', 'milk', '.'], ['milk', 'considered', 'a', 'complete', 'and', 'nutritious', 'food', '.'], ['the', 'cow', 'is', 'a', 'domestic', 'and', 'religious', 'animal', '.'], ['in', 'india', ',', 'it', 'is', 'a', 'ritual', 'and', 'custom', 'to', 'worship', 'cow', '.'], ['cow', '’', 's', 'milk', 'used', 'in', 'the', 'pooja', ',', 'abhishek', ',', 'and', 'other', 'holy', 'everyone', 'called', 'coweryone', '“', 'gau', 'mata', '”', 'to', 'give', 'her', 'mother-like', 'status', 'in', 'the', 'hindu', 'religion', '.'], ['it', 'has', 'a', 'large', 'body', ',', 'four', 'legs', ',', 'one', 'long', 'tail', ',', 'two', 'horns', ',', 'two', 'ears', ',', 'two', 'eyes', ',', 'one', 'big', 'nose', ',', 'one', 'big', 'mouth', ',', 'and', 'also', 'one', 'head', '.'], ['moreover', 'cow', 'found', 'in', 'almost', 'every', 'region', 'of', 'the', 'country', '.'], ['it', 'is', 'found', 'in', 'different', 'shapes', 'and', 'sizes', '.'], ['cow', 'found', 'in', 'our', 'country', 'become', 'small', 'however', 'big', 'cows', 'found', 'in', 'other', 'countries', '.'], ['we', 'should', 'take', 'good', 'care', 'of', 'the', 'cow', 'and', 'give', 'her', 'quality', 'food', 'and', 'clean', 'water', '.'], ['she', 'eats', 'green', 'grasses', ',', 'food', ',', 'grains', ',', 'hay', ',', 'and', 'other', 'things', '.'], ['first', ',', 'she', 'chews', 'the', 'food', 'well', 'and', 'slowly', 'swallows', 'to', 'her', 'stomach', '.'], ['her', 'back', 'is', 'long', 'and', 'wide', '.']]\n",
            "\n"
          ]
        }
      ]
    },
    {
      "cell_type": "code",
      "source": [
        "print(\"Train the Word2Vec model\")\n",
        "model = Word2Vec(tokenized_sentences, vector_size=100, window=5, min_count=1, sg=0)\n",
        "print(\"Word2Vec model trained successfully\")\n",
        "print()"
      ],
      "metadata": {
        "colab": {
          "base_uri": "https://localhost:8080/"
        },
        "id": "inAIjn2KBkj6",
        "outputId": "fd693bf7-20ed-47d8-9d29-b7f7378e4170"
      },
      "execution_count": 47,
      "outputs": [
        {
          "output_type": "stream",
          "name": "stdout",
          "text": [
            "Train the Word2Vec model\n",
            "Word2Vec model trained successfully\n",
            "\n"
          ]
        }
      ]
    },
    {
      "cell_type": "code",
      "source": [
        "print(\"Access word vectors\")\n",
        "word_vectors = model.wv\n",
        "vector = word_vectors['milk']\n",
        "print(\"Vector for 'word':\", vector)\n",
        "print()"
      ],
      "metadata": {
        "colab": {
          "base_uri": "https://localhost:8080/"
        },
        "id": "OGpFfRTuByOf",
        "outputId": "5a775904-6085-4bc4-85bd-6cdb196f5168"
      },
      "execution_count": 53,
      "outputs": [
        {
          "output_type": "stream",
          "name": "stdout",
          "text": [
            "Access word vectors\n",
            "Vector for 'word': [-1.9457671e-03 -5.2688490e-03  9.4413301e-03 -9.3154563e-03\n",
            "  4.5191739e-03  5.3937696e-03 -1.3903410e-03  9.0210028e-03\n",
            "  9.9019036e-03 -5.4878262e-03 -6.0191210e-03 -6.7577004e-03\n",
            " -7.9007121e-03 -3.0427028e-03 -5.5927699e-03 -8.3552962e-03\n",
            "  7.9518650e-04  3.0023239e-03  6.4176247e-03 -2.6536093e-03\n",
            " -4.4488022e-03  1.2545837e-03  4.0506379e-04  8.0975927e-03\n",
            "  1.9182934e-04  7.2416090e-03 -8.2820076e-03  8.4249377e-03\n",
            " -1.8921613e-03  8.6998576e-03 -7.6208231e-03  1.8115591e-03\n",
            "  1.0647980e-03  3.6475252e-05 -5.1218728e-03 -9.2491405e-03\n",
            " -7.2776955e-03 -7.9602599e-03  1.9031214e-03  4.5947783e-04\n",
            " -1.8105676e-03  7.1228850e-03 -2.4698004e-03 -1.3590369e-03\n",
            " -8.8825002e-03 -9.9352961e-03  8.9474460e-03 -5.7757115e-03\n",
            " -6.3710031e-03  5.2140863e-03  6.6696256e-03 -6.8470319e-03\n",
            "  9.5629587e-04 -6.0195741e-03  1.6368143e-03 -4.2971880e-03\n",
            " -3.4388965e-03  2.1817312e-03  8.6558601e-03  6.7293784e-03\n",
            " -9.6783414e-03 -5.6400206e-03  7.9104155e-03  1.9970958e-03\n",
            " -4.2722649e-03  6.2366395e-04  9.5092161e-03 -1.0924027e-03\n",
            " -9.4500268e-03  1.6206179e-03  6.2405374e-03  6.2901070e-03\n",
            "  4.1121398e-03 -5.6372802e-03 -3.6402186e-04 -6.8824455e-05\n",
            "  4.5792670e-03 -8.0409525e-03 -8.0364486e-03  2.6487646e-04\n",
            " -8.6132009e-03  5.8106743e-03 -4.3850570e-04  9.9811936e-03\n",
            " -5.3298175e-03 -5.0056999e-04  7.8001763e-03 -4.0762643e-03\n",
            " -5.0232122e-03  1.5835783e-03  2.6646378e-03 -2.5563117e-03\n",
            "  6.4419308e-03 -7.6596066e-03  3.4131939e-03  5.0337636e-04\n",
            "  8.7424228e-03  5.9831268e-03  6.7996909e-03  7.8253094e-03]\n",
            "\n"
          ]
        }
      ]
    },
    {
      "cell_type": "code",
      "source": [
        "from nltk.stem import WordNetLemmatizer"
      ],
      "metadata": {
        "id": "PPhKJRA1B4rM"
      },
      "execution_count": 58,
      "outputs": []
    },
    {
      "cell_type": "code",
      "source": [
        "model.wv.most_similar('animal',topn=3)"
      ],
      "metadata": {
        "colab": {
          "base_uri": "https://localhost:8080/"
        },
        "id": "QziwwlF230jS",
        "outputId": "c5492a56-3f95-4995-f283-682a68310e30"
      },
      "execution_count": 59,
      "outputs": [
        {
          "output_type": "execute_result",
          "data": {
            "text/plain": [
              "[('gives', 0.22222217917442322),\n",
              " ('eyes', 0.17974717915058136),\n",
              " ('to', 0.17121721804141998)]"
            ]
          },
          "metadata": {},
          "execution_count": 59
        }
      ]
    },
    {
      "cell_type": "code",
      "source": [
        "nltk.download('wordnet')\n",
        "lemmatizer=WordNetLemmatizer()\n",
        "[lemmatizer.lemmatize(word) for word in token_word]\n"
      ],
      "metadata": {
        "colab": {
          "base_uri": "https://localhost:8080/"
        },
        "id": "vgnQZvKfB97n",
        "outputId": "c567414b-7a18-4320-ef32-e1dc76bbbf47"
      },
      "execution_count": 61,
      "outputs": [
        {
          "output_type": "stream",
          "name": "stderr",
          "text": [
            "[nltk_data] Downloading package wordnet to /root/nltk_data...\n"
          ]
        },
        {
          "output_type": "execute_result",
          "data": {
            "text/plain": [
              "['The',\n",
              " 'Cow',\n",
              " 'is',\n",
              " 'a',\n",
              " 'very',\n",
              " 'useful',\n",
              " 'animal',\n",
              " 'and',\n",
              " 'give',\n",
              " 'u',\n",
              " 'milk',\n",
              " '.',\n",
              " 'Milk',\n",
              " 'considered',\n",
              " 'a',\n",
              " 'complete',\n",
              " 'and',\n",
              " 'nutritious',\n",
              " 'food',\n",
              " '.',\n",
              " 'The',\n",
              " 'Cow',\n",
              " 'is',\n",
              " 'a',\n",
              " 'domestic',\n",
              " 'and',\n",
              " 'religious',\n",
              " 'animal',\n",
              " '.',\n",
              " 'In',\n",
              " 'India',\n",
              " ',',\n",
              " 'it',\n",
              " 'is',\n",
              " 'a',\n",
              " 'ritual',\n",
              " 'and',\n",
              " 'custom',\n",
              " 'to',\n",
              " 'worship',\n",
              " 'Cow',\n",
              " '.',\n",
              " 'Cow',\n",
              " '’',\n",
              " 's',\n",
              " 'milk',\n",
              " 'used',\n",
              " 'in',\n",
              " 'the',\n",
              " 'pooja',\n",
              " ',',\n",
              " 'Abhishek',\n",
              " ',',\n",
              " 'and',\n",
              " 'other',\n",
              " 'holy',\n",
              " 'Everyone',\n",
              " 'called',\n",
              " 'Coweryone',\n",
              " '“',\n",
              " 'Gau',\n",
              " 'Mata',\n",
              " '”',\n",
              " 'to',\n",
              " 'give',\n",
              " 'her',\n",
              " 'mother-like',\n",
              " 'status',\n",
              " 'in',\n",
              " 'the',\n",
              " 'Hindu',\n",
              " 'religion',\n",
              " '.',\n",
              " 'It',\n",
              " 'ha',\n",
              " 'a',\n",
              " 'large',\n",
              " 'body',\n",
              " ',',\n",
              " 'four',\n",
              " 'leg',\n",
              " ',',\n",
              " 'one',\n",
              " 'long',\n",
              " 'tail',\n",
              " ',',\n",
              " 'two',\n",
              " 'horn',\n",
              " ',',\n",
              " 'two',\n",
              " 'ear',\n",
              " ',',\n",
              " 'two',\n",
              " 'eye',\n",
              " ',',\n",
              " 'one',\n",
              " 'big',\n",
              " 'nose',\n",
              " ',',\n",
              " 'one',\n",
              " 'big',\n",
              " 'mouth',\n",
              " ',',\n",
              " 'and',\n",
              " 'also',\n",
              " 'one',\n",
              " 'head',\n",
              " '.',\n",
              " 'Moreover',\n",
              " 'cow',\n",
              " 'found',\n",
              " 'in',\n",
              " 'almost',\n",
              " 'every',\n",
              " 'region',\n",
              " 'of',\n",
              " 'the',\n",
              " 'country',\n",
              " '.',\n",
              " 'It',\n",
              " 'is',\n",
              " 'found',\n",
              " 'in',\n",
              " 'different',\n",
              " 'shape',\n",
              " 'and',\n",
              " 'size',\n",
              " '.',\n",
              " 'Cow',\n",
              " 'found',\n",
              " 'in',\n",
              " 'our',\n",
              " 'country',\n",
              " 'become',\n",
              " 'small',\n",
              " 'however',\n",
              " 'big',\n",
              " 'cow',\n",
              " 'found',\n",
              " 'in',\n",
              " 'other',\n",
              " 'country',\n",
              " '.',\n",
              " 'We',\n",
              " 'should',\n",
              " 'take',\n",
              " 'good',\n",
              " 'care',\n",
              " 'of',\n",
              " 'the',\n",
              " 'Cow',\n",
              " 'and',\n",
              " 'give',\n",
              " 'her',\n",
              " 'quality',\n",
              " 'food',\n",
              " 'and',\n",
              " 'clean',\n",
              " 'water',\n",
              " '.',\n",
              " 'She',\n",
              " 'eats',\n",
              " 'green',\n",
              " 'grass',\n",
              " ',',\n",
              " 'food',\n",
              " ',',\n",
              " 'grain',\n",
              " ',',\n",
              " 'hay',\n",
              " ',',\n",
              " 'and',\n",
              " 'other',\n",
              " 'thing',\n",
              " '.',\n",
              " 'First',\n",
              " ',',\n",
              " 'she',\n",
              " 'chew',\n",
              " 'the',\n",
              " 'food',\n",
              " 'well',\n",
              " 'and',\n",
              " 'slowly',\n",
              " 'swallow',\n",
              " 'to',\n",
              " 'her',\n",
              " 'stomach',\n",
              " '.',\n",
              " 'Her',\n",
              " 'back',\n",
              " 'is',\n",
              " 'long',\n",
              " 'and',\n",
              " 'wide',\n",
              " '.']"
            ]
          },
          "metadata": {},
          "execution_count": 61
        }
      ]
    },
    {
      "cell_type": "code",
      "source": [],
      "metadata": {
        "id": "b5NWacXLCZqE"
      },
      "execution_count": 53,
      "outputs": []
    },
    {
      "cell_type": "code",
      "source": [
        "\n",
        "\n",
        "\n",
        "\n",
        "\n",
        "\n",
        "\n",
        "\n",
        "\n",
        "\n",
        "\n"
      ],
      "metadata": {
        "id": "X-qfUCdLCwwr"
      },
      "execution_count": null,
      "outputs": []
    }
  ]
}