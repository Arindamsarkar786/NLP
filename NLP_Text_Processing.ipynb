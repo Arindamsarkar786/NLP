{
  "cells": [
    {
      "cell_type": "markdown",
      "metadata": {
        "id": "_n52McdLcLx4"
      },
      "source": [
        "# Import Necessary Libraries"
      ]
    },
    {
      "cell_type": "code",
      "execution_count": 1,
      "metadata": {
        "id": "diqPBuhhcLx6"
      },
      "outputs": [],
      "source": [
        "import re\n",
        "import nltk\n",
        "from nltk.tokenize import word_tokenize, sent_tokenize\n",
        "from nltk.corpus import stopwords\n",
        "from nltk.stem import PorterStemmer, WordNetLemmatizer"
      ]
    },
    {
      "cell_type": "markdown",
      "metadata": {
        "id": "FBe1VbsncLx8"
      },
      "source": [
        "# Sample Text"
      ]
    },
    {
      "cell_type": "code",
      "execution_count": 9,
      "metadata": {
        "id": "8-w0lVJNcLx8"
      },
      "outputs": [],
      "source": [
        "sample_text = \"\"\"\n",
        "The Cow is a very useful animal and gives us milk. Milk considered a complete and nutritious food. The Cow is a domestic and religious animal. In India, it is a ritual and custom to worship Cow. Cow’s milk used in the pooja, Abhishek, and other holy Everyone called Coweryone “Gau Mata” to give her mother-like status in the Hindu religion. It has a large body, four legs, one long tail, two horns, two ears, two eyes, one big nose, one big mouth, and also one head. Moreover cow found in almost every region of the country.\n",
        "\n",
        "It is found in different shapes and sizes. Cow found in our country become small however big cows found in other countries. We should take good care of the Cow and give her quality food and clean water. She eats green grasses, food, grains, hay, and other things. First, she chews the food well and slowly swallows to her stomach. Her back is long and wide.\n",
        "\"\"\""
      ]
    },
    {
      "cell_type": "markdown",
      "metadata": {
        "id": "V6Bf0lpDcLx8"
      },
      "source": [
        "# Tokenization"
      ]
    },
    {
      "cell_type": "code",
      "source": [
        "import nltk\n",
        "nltk.download('punkt')\n",
        "nltk.download('stopwords')\n",
        "nltk.download('wordnet')"
      ],
      "metadata": {
        "colab": {
          "base_uri": "https://localhost:8080/"
        },
        "id": "-5E3Oa5echr9",
        "outputId": "801320c5-eeba-46fa-fd68-1c18b6d5e48a"
      },
      "execution_count": 10,
      "outputs": [
        {
          "output_type": "stream",
          "name": "stderr",
          "text": [
            "[nltk_data] Downloading package punkt to /root/nltk_data...\n",
            "[nltk_data]   Package punkt is already up-to-date!\n",
            "[nltk_data] Downloading package stopwords to /root/nltk_data...\n",
            "[nltk_data]   Package stopwords is already up-to-date!\n",
            "[nltk_data] Downloading package wordnet to /root/nltk_data...\n",
            "[nltk_data]   Package wordnet is already up-to-date!\n"
          ]
        },
        {
          "output_type": "execute_result",
          "data": {
            "text/plain": [
              "True"
            ]
          },
          "metadata": {},
          "execution_count": 10
        }
      ]
    },
    {
      "cell_type": "code",
      "execution_count": 11,
      "metadata": {
        "id": "gELFG6dmcLx9"
      },
      "outputs": [],
      "source": [
        "sentences = sent_tokenize(sample_text)\n",
        "words = [word_tokenize(sentence) for sentence in sentences]"
      ]
    },
    {
      "cell_type": "markdown",
      "metadata": {
        "id": "5AjwtQnicLx9"
      },
      "source": [
        "# Lowercasing and Removing Special Characters"
      ]
    },
    {
      "cell_type": "code",
      "execution_count": 12,
      "metadata": {
        "id": "RTLv4UJJcLx9"
      },
      "outputs": [],
      "source": [
        "cleaned_words = [[re.sub(r'[^a-zA-Z0-9]', '', word.lower()) for word in sentence] for sentence in words]"
      ]
    },
    {
      "cell_type": "markdown",
      "metadata": {
        "id": "mXFE3t39cLx9"
      },
      "source": [
        "# Removing Stopwords"
      ]
    },
    {
      "cell_type": "code",
      "execution_count": 13,
      "metadata": {
        "id": "b-U6r_B4cLx9"
      },
      "outputs": [],
      "source": [
        "stop_words = set(stopwords.words('english'))\n",
        "filtered_words = [[word for word in sentence if word not in stop_words] for sentence in cleaned_words]"
      ]
    },
    {
      "cell_type": "markdown",
      "metadata": {
        "id": "f2GVXZUDcLx-"
      },
      "source": [
        "# Stemming and Lemmatization"
      ]
    },
    {
      "cell_type": "code",
      "execution_count": 14,
      "metadata": {
        "id": "HDRlWG7mcLx-"
      },
      "outputs": [],
      "source": [
        "stemmer = PorterStemmer()\n",
        "lemmatizer = WordNetLemmatizer()\n",
        "\n",
        "stemmed_words = [[stemmer.stem(word) for word in sentence] for sentence in filtered_words]\n",
        "lemmatized_words = [[lemmatizer.lemmatize(word) for word in sentence] for sentence in filtered_words]"
      ]
    },
    {
      "cell_type": "markdown",
      "metadata": {
        "id": "164QuakWcLx-"
      },
      "source": [
        "# Printing Processed Sentences"
      ]
    },
    {
      "cell_type": "code",
      "execution_count": 15,
      "metadata": {
        "colab": {
          "base_uri": "https://localhost:8080/"
        },
        "id": "fxlOTHJKcLx-",
        "outputId": "0da877c3-e792-439c-fe2e-3b2801693de4"
      },
      "outputs": [
        {
          "output_type": "stream",
          "name": "stdout",
          "text": [
            "Original Sentences:\n",
            "\n",
            "The Cow is a very useful animal and gives us milk.\n",
            "Milk considered a complete and nutritious food.\n",
            "The Cow is a domestic and religious animal.\n",
            "In India, it is a ritual and custom to worship Cow.\n",
            "Cow’s milk used in the pooja, Abhishek, and other holy Everyone called Coweryone “Gau Mata” to give her mother-like status in the Hindu religion.\n",
            "It has a large body, four legs, one long tail, two horns, two ears, two eyes, one big nose, one big mouth, and also one head.\n",
            "Moreover cow found in almost every region of the country.\n",
            "It is found in different shapes and sizes.\n",
            "Cow found in our country become small however big cows found in other countries.\n",
            "We should take good care of the Cow and give her quality food and clean water.\n",
            "She eats green grasses, food, grains, hay, and other things.\n",
            "First, she chews the food well and slowly swallows to her stomach.\n",
            "Her back is long and wide.\n",
            "\n",
            "Processed Sentences (Lemmatized):\n",
            "cow useful animal give u milk \n",
            "milk considered complete nutritious food \n",
            "cow domestic religious animal \n",
            "india  ritual custom worship cow \n",
            "cow  milk used pooja  abhishek  holy everyone called coweryone  gau mata  give motherlike status hindu religion \n",
            "large body  four leg  one long tail  two horn  two ear  two eye  one big nose  one big mouth  also one head \n",
            "moreover cow found almost every region country \n",
            "found different shape size \n",
            "cow found country become small however big cow found country \n",
            "take good care cow give quality food clean water \n",
            "eats green grass  food  grain  hay  thing \n",
            "first  chew food well slowly swallow stomach \n",
            "back long wide \n"
          ]
        }
      ],
      "source": [
        "print(\"Original Sentences:\")\n",
        "for sentence in sentences:\n",
        "    print(sentence)\n",
        "\n",
        "print(\"\\nProcessed Sentences (Lemmatized):\")\n",
        "for sentence in lemmatized_words:\n",
        "    print(' '.join(sentence))"
      ]
    },
    {
      "cell_type": "code",
      "execution_count": null,
      "metadata": {
        "id": "2qCNgLbOcLx_"
      },
      "outputs": [],
      "source": []
    }
  ],
  "metadata": {
    "kernelspec": {
      "display_name": "Python 3",
      "language": "python",
      "name": "python3"
    },
    "language_info": {
      "codemirror_mode": {
        "name": "ipython",
        "version": 3
      },
      "file_extension": ".py",
      "mimetype": "text/x-python",
      "name": "python",
      "nbconvert_exporter": "python",
      "pygments_lexer": "ipython3",
      "version": "3.8.5"
    },
    "colab": {
      "provenance": []
    }
  },
  "nbformat": 4,
  "nbformat_minor": 0
}